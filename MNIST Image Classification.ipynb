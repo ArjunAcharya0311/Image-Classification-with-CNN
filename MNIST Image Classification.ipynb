{
 "cells": [
  {
   "cell_type": "markdown",
   "metadata": {},
   "source": [
    "# Image Classification using Convolutional Neural Networks\n",
    "\n",
    "This Notebook uses the concepts and steps used by https://github.com/bentrevett/pytorch-image-classification/blob/master/2_lenet.ipynb\n",
    "The goal is to build a Image Classification Model by using a Convolution Neural Network."
   ]
  },
  {
   "cell_type": "code",
   "execution_count": null,
   "metadata": {},
   "outputs": [],
   "source": [
    "import torch\n",
    "import torch.nn as nn\n",
    "import torch.nn.functional as F\n",
    "import torch.optim as optim\n",
    "import torch.utils.data as data\n",
    "\n",
    "import torchvision.transforms as transforms\n",
    "import torchvision.datasets as datasets\n",
    "\n",
    "from sklearn.metrics import confusion_matrix\n",
    "from sklearn.metrics import ConfusionMatrixDisplay\n",
    "import matplotlib.pyplot as plt\n",
    "import numpy as np\n",
    "\n",
    "import copy\n",
    "import random\n",
    "import time\n",
    "import os"
   ]
  },
  {
   "cell_type": "markdown",
   "metadata": {},
   "source": [
    "## Pre-Processing Steps"
   ]
  },
  {
   "cell_type": "markdown",
   "metadata": {},
   "source": [
    "### Setting a random seed for reproducability"
   ]
  },
  {
   "cell_type": "code",
   "execution_count": 2,
   "metadata": {},
   "outputs": [],
   "source": [
    "SEED = 1234\n",
    "random.seed(SEED)\n",
    "np.random.seed(SEED)\n",
    "torch.manual_seed(SEED)\n",
    "torch.cuda.manual_seed(SEED)\n",
    "torch.backends.cudnn.deterministic = True"
   ]
  },
  {
   "cell_type": "markdown",
   "metadata": {},
   "source": [
    "### Determining the mean and std of the training dataset"
   ]
  },
  {
   "cell_type": "code",
   "execution_count": 11,
   "metadata": {},
   "outputs": [
    {
     "name": "stdout",
     "output_type": "stream",
     "text": [
      "Calculated mean:  0.1306604762738429\n",
      "Calculated std: 0.30810780385646264\n"
     ]
    }
   ],
   "source": [
    "ROOT = '.data'\n",
    "train_data = datasets.MNIST(root=ROOT,\n",
    "                            train=True,\n",
    "                            download=True)\n",
    "\n",
    "mean = train_data.data.numpy().mean() / 255\n",
    "std = train_data.data.numpy().std() / 255\n",
    "\n",
    "print('Calculated mean: ', mean)\n",
    "print('Calculated std:', std)"
   ]
  },
  {
   "cell_type": "markdown",
   "metadata": {},
   "source": [
    "### Define the training and test transformations"
   ]
  },
  {
   "cell_type": "markdown",
   "metadata": {},
   "source": [
    "We introdue certain random abnormalities into the training set "
   ]
  },
  {
   "cell_type": "code",
   "execution_count": 33,
   "metadata": {},
   "outputs": [],
   "source": [
    "train_transforms = transforms.Compose([\n",
    "    transforms.RandomRotation(5, fill=(0,)),\n",
    "    transforms.RandomCrop(28, padding=2),\n",
    "    transforms.ToTensor(),\n",
    "    transforms.Normalize(mean=[mean], std=[std])\n",
    "])\n",
    "\n",
    "test_transforms = transforms.Compose([\n",
    "    transforms.ToTensor(),\n",
    "    transforms.Normalize(mean=[mean], std=[std])\n",
    "])"
   ]
  },
  {
   "cell_type": "markdown",
   "metadata": {},
   "source": [
    "### Loading training and test datasets"
   ]
  },
  {
   "cell_type": "code",
   "execution_count": 34,
   "metadata": {},
   "outputs": [],
   "source": [
    "train_data = datasets.MNIST(root=ROOT,\n",
    "                            train=True,\n",
    "                            download=True,\n",
    "                            transform=train_transforms)\n",
    "\n",
    "test_data = datasets.MNIST(root=ROOT,\n",
    "                           train=False,\n",
    "                           download=True,\n",
    "                           transform=test_transforms)"
   ]
  },
  {
   "cell_type": "markdown",
   "metadata": {},
   "source": [
    "### Creating the validation set\n",
    "Validation set is always created from the training dataset.\n",
    "Validation set is taken as 10% of the training set"
   ]
  },
  {
   "cell_type": "code",
   "execution_count": 35,
   "metadata": {},
   "outputs": [],
   "source": [
    "RATIO = 0.9\n",
    "n_train_examples = int(len(train_data) * RATIO)\n",
    "n_valid_examples = len(train_data) - n_train_examples\n",
    "\n",
    "train_data, validation_data = data.random_split(train_data, [n_train_examples,n_valid_examples])"
   ]
  },
  {
   "cell_type": "markdown",
   "metadata": {},
   "source": [
    "Currently validation set has the same transformation as train set. However, we want validation set to resemble the test dataset. Hence, here we change its tranformation to that of the test set"
   ]
  },
  {
   "cell_type": "code",
   "execution_count": 36,
   "metadata": {},
   "outputs": [],
   "source": [
    "validation_data = copy.deepcopy(validation_data)\n",
    "validation_data.dataset.transform = test_transforms"
   ]
  },
  {
   "cell_type": "code",
   "execution_count": 37,
   "metadata": {},
   "outputs": [
    {
     "name": "stdout",
     "output_type": "stream",
     "text": [
      "Training: 54000\n",
      "Validation: 6000\n",
      "Test: 10000\n"
     ]
    }
   ],
   "source": [
    "print(\"Training:\", len(train_data))\n",
    "print(\"Validation:\", len(validation_data))\n",
    "print(\"Test:\", len(test_data))"
   ]
  },
  {
   "cell_type": "markdown",
   "metadata": {},
   "source": [
    "### Creating Dataloaders/Iterators\n",
    "Finally, the last step in pre-processing is to create iterators for each data set we will be using.\n",
    "This allows for lazy loading such that only batch size is laded in memory at a time. We select our batch_size to be 64 and enable shuffling only in the training set."
   ]
  },
  {
   "cell_type": "code",
   "execution_count": 38,
   "metadata": {},
   "outputs": [],
   "source": [
    "BATCH_SIZE = 64\n",
    "\n",
    "train_iterator = data.DataLoader(train_data,\n",
    "                                 shuffle=True,\n",
    "                                 batch_size=BATCH_SIZE)\n",
    "\n",
    "valid_iterator = data.DataLoader(validation_data,\n",
    "                                 batch_size=BATCH_SIZE)\n",
    "\n",
    "test_iterator = data.DataLoader(test_data,\n",
    "                                batch_size=BATCH_SIZE)"
   ]
  },
  {
   "cell_type": "markdown",
   "metadata": {},
   "source": [
    "## Defining the Model\n",
    "The MNIST Dataset consists of 28x28 sized images. <br>\n",
    "1) The first layer of this CNN is going to take in an input of [1,28,28]. The first layer is a convolutional layer and is going consist of 6 filters (out_channels) and kernel size of 5. Once the image passes through this layer it will be of [6,24,24]. <br>\n",
    "2) The second layer is going to be a Max Pooling Layer with a filter size of 2.This is going to transform the image into half the height and width giving [6,12,12]. <br>\n",
    "3) This is then passed through a ReLU activation function. <br>\n",
    "4) We now pass the data through a second Convolutional Layer which will consist of 16 filters (hence giving an output of depth 16). Filter will have a heightxwidthxdepth of 5x5x6. The resulting output will be [16,8,8] <br>\n",
    "5) We pass this through another Max Pooling Layer with filter size 2 making the output of size [16,4,4] <br>\n",
    "6) Finally we pass this through the ReLU function <br>\n",
    "7) We flatten this output and pass this through 3 linear layers, ReLU follows each layer except the last. This is done so as to weigh the features further so that a better predcition can be made.\n"
   ]
  },
  {
   "cell_type": "code",
   "execution_count": 39,
   "metadata": {},
   "outputs": [],
   "source": [
    "class MyCNN(nn.Module):\n",
    "    def __init__(self, output_dimension):\n",
    "        super().__init__() # MyCNN inherits from nn.Module\n",
    "\n",
    "        self.conv1 = nn.Conv2d(in_channels=1, # number of input\n",
    "                               out_channels=6, # number of output\n",
    "                               kernel_size=5) # size of the filter\n",
    "\n",
    "        self.conv2 = nn.Conv2d(in_channels=6,\n",
    "                               out_channels=16,\n",
    "                               kernel_size=5)\n",
    "\n",
    "        self.lin1 = nn.Linear(16*4*4, 120)\n",
    "        self.lin2 = nn.Linear(120, 84)\n",
    "        self.lin3 = nn.Linear(84, output_dimension)\n",
    "\n",
    "    def forward(self, x):\n",
    "        # batch size = [1,28,28]\n",
    "        x = self.conv1(x)\n",
    "        # batch size = [6,24,24]\n",
    "        x = F.max_pool2d(x, kernel_size=2)\n",
    "        # batch size = [6,12,12]\n",
    "        x = F.relu(x)\n",
    "\n",
    "        x = self.conv2(x)\n",
    "        # batch size = [16,8,8]\n",
    "        x = F.max_pool2d(x, kernel_size=2)\n",
    "        # batch size = [16,4,4]\n",
    "        x = F.relu(x)\n",
    "        x = x.view(x.shape[0], -1)\n",
    "        # batch size = [256]\n",
    "\n",
    "        h = x\n",
    "\n",
    "        x = self.lin1(x)\n",
    "        # batch size = [120]\n",
    "        x = F.relu(x)\n",
    "        x = self.lin2(x)\n",
    "        # batch size = [84]\n",
    "        x = F.relu(x)\n",
    "        x = self.lin3(x)\n",
    "        # batch size = [output_dimension]\n",
    "\n",
    "        return x, h"
   ]
  },
  {
   "cell_type": "code",
   "execution_count": 40,
   "metadata": {},
   "outputs": [],
   "source": [
    "OUTPUT_DIM = 10\n",
    "model = MyCNN(OUTPUT_DIM)"
   ]
  },
  {
   "cell_type": "markdown",
   "metadata": {},
   "source": [
    "### Count the parameters on which to train"
   ]
  },
  {
   "cell_type": "code",
   "execution_count": 41,
   "metadata": {},
   "outputs": [
    {
     "name": "stdout",
     "output_type": "stream",
     "text": [
      "The model has  44426 trainable parameters\n"
     ]
    }
   ],
   "source": [
    "def count_parameters(model):\n",
    "    return sum(p.numel() for p in model.parameters() if p.requires_grad)\n",
    "\n",
    "print(\"The model has \", count_parameters(model),\"trainable parameters\")"
   ]
  },
  {
   "cell_type": "markdown",
   "metadata": {},
   "source": [
    "## Training the Model"
   ]
  },
  {
   "cell_type": "markdown",
   "metadata": {},
   "source": [
    "### Define the Optimizer"
   ]
  },
  {
   "cell_type": "code",
   "execution_count": 42,
   "metadata": {},
   "outputs": [],
   "source": [
    "optimizer = optim.Adam(model.parameters())"
   ]
  },
  {
   "cell_type": "markdown",
   "metadata": {},
   "source": [
    "### Define the Loss Function - Cross Entropy"
   ]
  },
  {
   "cell_type": "code",
   "execution_count": 43,
   "metadata": {},
   "outputs": [],
   "source": [
    "criterion = nn.CrossEntropyLoss()"
   ]
  },
  {
   "cell_type": "markdown",
   "metadata": {},
   "source": [
    "### Define Device allocation"
   ]
  },
  {
   "cell_type": "code",
   "execution_count": 44,
   "metadata": {},
   "outputs": [],
   "source": [
    "device = torch.device('cuda' if torch.cuda.is_available() else 'cpu')"
   ]
  },
  {
   "cell_type": "markdown",
   "metadata": {},
   "source": [
    "### Place model and Criterion on the device"
   ]
  },
  {
   "cell_type": "code",
   "execution_count": 45,
   "metadata": {},
   "outputs": [],
   "source": [
    "model = model.to(device)\n",
    "criterion = criterion.to(device)"
   ]
  },
  {
   "cell_type": "markdown",
   "metadata": {},
   "source": [
    "### Define a function to calculate the Accuracy"
   ]
  },
  {
   "cell_type": "code",
   "execution_count": 46,
   "metadata": {},
   "outputs": [],
   "source": [
    "def calculate_accuracy(y_pred, y):\n",
    "    top_pred = y_pred.argmax(1, keepdim=True)\n",
    "    correct = top_pred.eq(y.view_as(top_pred)).sum()\n",
    "    acc = correct.float()/y.shape[0]\n",
    "    return acc"
   ]
  },
  {
   "cell_type": "markdown",
   "metadata": {},
   "source": [
    "### Train Epochs"
   ]
  },
  {
   "cell_type": "code",
   "execution_count": 47,
   "metadata": {},
   "outputs": [],
   "source": [
    "def train(model, iterator, optimizer, criterion, device):\n",
    "    epoch_loss = 0\n",
    "    epoch_acc = 0\n",
    "\n",
    "    model.train()\n",
    "\n",
    "    for (x,y) in iterator:\n",
    "        x = x.to(device)\n",
    "        y = y.to(device)\n",
    "\n",
    "        optimizer.zero_grad()\n",
    "\n",
    "        y_pred, _ = model(x)\n",
    "\n",
    "        loss = criterion(y_pred, y)\n",
    "        acc = calculate_accuracy(y_pred, y)\n",
    "\n",
    "        loss.backward()\n",
    "\n",
    "        optimizer.step()\n",
    "\n",
    "        epoch_loss += loss.item()\n",
    "        epoch_acc += acc.item()\n",
    "\n",
    "    return epoch_loss/len(iterator), epoch_acc/len(iterator)"
   ]
  },
  {
   "cell_type": "markdown",
   "metadata": {},
   "source": [
    "### Function for model evaluation"
   ]
  },
  {
   "cell_type": "code",
   "execution_count": 48,
   "metadata": {},
   "outputs": [],
   "source": [
    "def evaluate(model, iterator, criterion, device):\n",
    "    epoch_loss = 0\n",
    "    epoch_acc = 0\n",
    "\n",
    "    model.eval()\n",
    "\n",
    "    with torch.no_grad():\n",
    "        for (x, y) in iterator:\n",
    "            x = x.to(device)\n",
    "            y= y.to(device)\n",
    "\n",
    "            y_pred, _ = model(x)\n",
    "            loss = criterion(y_pred, y)\n",
    "            acc = calculate_accuracy(y_pred, y)\n",
    "\n",
    "            epoch_loss += loss.item()\n",
    "            epoch_acc += acc.item()\n",
    "\n",
    "        return epoch_loss / len(iterator), epoch_acc / len(iterator)"
   ]
  },
  {
   "cell_type": "markdown",
   "metadata": {},
   "source": [
    "### Function to calculate time taken for each epoch"
   ]
  },
  {
   "cell_type": "code",
   "execution_count": 49,
   "metadata": {},
   "outputs": [],
   "source": [
    "def epoch_time(start_time, end_time):\n",
    "    elapsed_time = end_time - start_time\n",
    "    elapsed_mins = int(elapsed_time/60)\n",
    "    elapsed_secs = int(elapsed_time - (elapsed_time*60))\n",
    "    return elapsed_mins, elapsed_secs"
   ]
  },
  {
   "cell_type": "markdown",
   "metadata": {},
   "source": [
    "### Begin training the model"
   ]
  },
  {
   "cell_type": "code",
   "execution_count": 50,
   "metadata": {},
   "outputs": [
    {
     "name": "stdout",
     "output_type": "stream",
     "text": [
      "Epoch  0 | Epoch Time:  0  mins  -2603  secs\n",
      "Train Loss:  0.37843330829267463 | Train Accuracy:  0.8804551737992119\n",
      "validation Loss:  0.09139691458697966 | Validation Accuracy:  0.9699689714198417\n",
      "Epoch  1 | Epoch Time:  0  mins  -3291  secs\n",
      "Train Loss:  0.12735088810024528 | Train Accuracy:  0.9604623321249587\n",
      "validation Loss:  0.0820696628652513 | Validation Accuracy:  0.9743461881546264\n",
      "Epoch  2 | Epoch Time:  1  mins  -3795  secs\n",
      "Train Loss:  0.09667875071418124 | Train Accuracy:  0.969780558870302\n",
      "validation Loss:  0.05963195435346124 | Validation Accuracy:  0.9821586881546264\n",
      "Epoch  3 | Epoch Time:  1  mins  -3860  secs\n",
      "Train Loss:  0.0791995801763737 | Train Accuracy:  0.9756615323619255\n",
      "validation Loss:  0.06147989483074622 | Validation Accuracy:  0.9798869680851063\n",
      "Epoch  4 | Epoch Time:  1  mins  -3879  secs\n",
      "Train Loss:  0.07117517051875692 | Train Accuracy:  0.9778152152684063\n",
      "validation Loss:  0.04566146935425461 | Validation Accuracy:  0.9851507094312222\n",
      "Epoch  5 | Epoch Time:  1  mins  -3746  secs\n",
      "Train Loss:  0.06230241554401378 | Train Accuracy:  0.9807402745101124\n",
      "validation Loss:  0.0526671572687461 | Validation Accuracy:  0.982989805175903\n",
      "Epoch  6 | Epoch Time:  1  mins  -3765  secs\n",
      "Train Loss:  0.05863878195603285 | Train Accuracy:  0.9819436216665105\n",
      "validation Loss:  0.048189218610554856 | Validation Accuracy:  0.9847074468085106\n",
      "Epoch  7 | Epoch Time:  1  mins  -3719  secs\n",
      "Train Loss:  0.0519053239886532 | Train Accuracy:  0.9834987164532404\n",
      "validation Loss:  0.03849531277305784 | Validation Accuracy:  0.9870345744680851\n",
      "Epoch  8 | Epoch Time:  1  mins  -3730  secs\n",
      "Train Loss:  0.04921315353660584 | Train Accuracy:  0.984319460900474\n",
      "validation Loss:  0.03524482611534582 | Validation Accuracy:  0.9888630319148937\n",
      "Epoch  9 | Epoch Time:  1  mins  -3716  secs\n",
      "Train Loss:  0.046305148296777635 | Train Accuracy:  0.9855351501025295\n",
      "validation Loss:  0.04148023479687486 | Validation Accuracy:  0.98664672006952\n",
      "Epoch  10 | Epoch Time:  1  mins  -3701  secs\n",
      "Train Loss:  0.04518838020778698 | Train Accuracy:  0.9851957444472336\n",
      "validation Loss:  0.03894025195721894 | Validation Accuracy:  0.9872007978723404\n",
      "Epoch  11 | Epoch Time:  0  mins  -3441  secs\n",
      "Train Loss:  0.04210759623098806 | Train Accuracy:  0.9865965639810427\n",
      "validation Loss:  0.034034138534867024 | Validation Accuracy:  0.9894725179418604\n",
      "Epoch  12 | Epoch Time:  0  mins  -3226  secs\n",
      "Train Loss:  0.040230287159695836 | Train Accuracy:  0.9876950039259066\n",
      "validation Loss:  0.03664118223520184 | Validation Accuracy:  0.9883643617021277\n",
      "Epoch  13 | Epoch Time:  0  mins  -3267  secs\n",
      "Train Loss:  0.03919297000535342 | Train Accuracy:  0.9874111374407583\n",
      "validation Loss:  0.03456935833526857 | Validation Accuracy:  0.988530585106383\n",
      "Epoch  14 | Epoch Time:  0  mins  -3176  secs\n",
      "Train Loss:  0.03771382602225764 | Train Accuracy:  0.9880652645894137\n",
      "validation Loss:  0.02765856556033349 | Validation Accuracy:  0.9918550531914894\n",
      "Epoch  15 | Epoch Time:  0  mins  -3164  secs\n",
      "Train Loss:  0.03562918206412975 | Train Accuracy:  0.9881146327014217\n",
      "validation Loss:  0.03208505551106584 | Validation Accuracy:  0.9909131203560119\n",
      "Epoch  16 | Epoch Time:  0  mins  -3138  secs\n",
      "Train Loss:  0.03498741395842401 | Train Accuracy:  0.9887440758293838\n",
      "validation Loss:  0.03184755324903737 | Validation Accuracy:  0.9908577127659575\n",
      "Epoch  17 | Epoch Time:  0  mins  -3165  secs\n",
      "Train Loss:  0.034745685136991486 | Train Accuracy:  0.9892377567376006\n",
      "validation Loss:  0.03126534250685004 | Validation Accuracy:  0.989029255319149\n",
      "Epoch  18 | Epoch Time:  0  mins  -3129  secs\n",
      "Train Loss:  0.034133182585969625 | Train Accuracy:  0.9892069016587678\n",
      "validation Loss:  0.03232893458334729 | Validation Accuracy:  0.9898603723404256\n",
      "Epoch  19 | Epoch Time:  0  mins  -3120  secs\n",
      "Train Loss:  0.03331904824533068 | Train Accuracy:  0.9894228870693541\n",
      "validation Loss:  0.03641394593123163 | Validation Accuracy:  0.9886968085106383\n"
     ]
    }
   ],
   "source": [
    "EPOCHS = 20\n",
    "\n",
    "best_valid_loss = float('inf')\n",
    "\n",
    "for epoch in range(EPOCHS):\n",
    "    start_time = time.monotonic()\n",
    "\n",
    "    train_loss, train_acc = train(model, train_iterator, optimizer, criterion, device)\n",
    "    valid_loss, valid_acc = evaluate(model, valid_iterator, criterion, device)\n",
    "\n",
    "    if valid_loss < best_valid_loss:\n",
    "        best_valid_loss = valid_loss\n",
    "        torch.save(model.state_dict(), 'tut2-model.pt')\n",
    "\n",
    "    end_time = time.monotonic()\n",
    "\n",
    "    epoch_mins, epoch_secs = epoch_time(start_time, end_time)\n",
    "\n",
    "    print(\"Epoch \", epoch, \"| Epoch Time: \", epoch_mins,\" mins \", epoch_secs,\" secs\")\n",
    "    print(\"Train Loss: \", train_loss, \"| Train Accuracy: \", train_acc)\n",
    "    print(\"validation Loss: \", valid_loss, \"| Validation Accuracy: \", valid_acc)"
   ]
  },
  {
   "cell_type": "markdown",
   "metadata": {},
   "source": [
    "Test result shows an accuracy of 99.22% and a Loss of just 0.024"
   ]
  },
  {
   "cell_type": "code",
   "execution_count": 51,
   "metadata": {},
   "outputs": [
    {
     "name": "stdout",
     "output_type": "stream",
     "text": [
      "Test Loss:  0.024420944193155547 | Test Accuracy:  0.9922372611464968\n"
     ]
    }
   ],
   "source": [
    "model.load_state_dict(torch.load('tut2-model.pt'))\n",
    "test_loss, test_acc = evaluate(model, test_iterator, criterion, device)\n",
    "\n",
    "print(\"Test Loss: \", test_loss, \"| Test Accuracy: \", test_acc)"
   ]
  },
  {
   "cell_type": "markdown",
   "metadata": {},
   "source": [
    "## Examining the Model\n",
    "\n",
    "We will examine the model by plotting a confusion matrix, seeing which incorrect examples our model was most confident about."
   ]
  },
  {
   "cell_type": "code",
   "execution_count": 52,
   "metadata": {},
   "outputs": [],
   "source": [
    "def get_predictions(model, iterator, device):\n",
    "\n",
    "    model.eval()\n",
    "\n",
    "    images = []\n",
    "    labels = []\n",
    "    probs = []\n",
    "\n",
    "    with torch.no_grad():\n",
    "        for (x,y) in iterator:\n",
    "            x = x.to(device)\n",
    "\n",
    "            y_pred, _ = model(x)\n",
    "\n",
    "            y_prob = F.softmax(y_pred, dim=-1)\n",
    "            top_pred = y_prob.argmax(1, keepdim=True)\n",
    "\n",
    "            images.append(x.cpu())\n",
    "            labels.append(y.cpu())\n",
    "            probs.append(y_prob.cpu())\n",
    "\n",
    "    images = torch.cat(images, dim=0)\n",
    "    labels = torch.cat(labels, dim=0)\n",
    "    probs = torch.cat(probs, dim=0)\n",
    "\n",
    "    return images, labels, probs"
   ]
  },
  {
   "cell_type": "code",
   "execution_count": 53,
   "metadata": {},
   "outputs": [],
   "source": [
    "images, labels, probs = get_predictions(model, test_iterator, device)\n",
    "\n",
    "pred_labels = torch.argmax(probs, 1)"
   ]
  },
  {
   "cell_type": "code",
   "execution_count": 54,
   "metadata": {},
   "outputs": [],
   "source": [
    "def plot_confusion_matrix(labels, pred_labels):\n",
    "    fig = plt.figure(figsize = (10, 10))\n",
    "    ax = fig.add_subplot(1,1,1)\n",
    "    cm = confusion_matrix(labels, pred_labels)\n",
    "    cm = ConfusionMatrixDisplay(cm, display_labels=range(10))\n",
    "    cm.plot(values_format='d', cmap='Blues', ax=ax)"
   ]
  },
  {
   "cell_type": "code",
   "execution_count": 55,
   "metadata": {},
   "outputs": [
    {
     "data": {
      "image/png": "[encoded data removed]",
      "text/plain": [
       "<Figure size 720x720 with 2 Axes>"
      ]
     },
     "metadata": {
      "needs_background": "light"
     },
     "output_type": "display_data"
    }
   ],
   "source": [
    "plot_confusion_matrix(labels, pred_labels)"
   ]
  },
  {
   "cell_type": "markdown",
   "metadata": {},
   "source": [
    "The highest problem seems to be with true 9 being prediced as 4 and also 9 being predicted as 8"
   ]
  },
  {
   "cell_type": "code",
   "execution_count": 56,
   "metadata": {},
   "outputs": [],
   "source": [
    "corrects = torch.eq(labels, pred_labels)"
   ]
  },
  {
   "cell_type": "code",
   "execution_count": 57,
   "metadata": {},
   "outputs": [],
   "source": [
    "incorrect_examples = []"
   ]
  },
  {
   "cell_type": "code",
   "execution_count": 58,
   "metadata": {},
   "outputs": [],
   "source": [
    "for image, label, prob, correct in zip(images, labels, probs, corrects):\n",
    "    if not correct:\n",
    "        incorrect_examples.append((image, label, prob))\n",
    "\n",
    "incorrect_examples.sort(reverse=True, key= lambda x: torch.max(x[2], dim=0).values)"
   ]
  },
  {
   "cell_type": "code",
   "execution_count": 59,
   "metadata": {},
   "outputs": [],
   "source": [
    "def plot_most_incorrect(incorrect, n_images):\n",
    "    rows = int(np.sqrt(n_images))\n",
    "    cols = int(np.sqrt(n_images))\n",
    "\n",
    "    fig = plt.figure(figsize=(20, 10))\n",
    "    for i in range(rows*cols):\n",
    "        ax = fig.add_subplot(rows, cols, i+1)\n",
    "        image, true_label, probs = incorrect[i]\n",
    "        true_prob = probs[true_label]\n",
    "        incorrect_prob, incorrect_label = torch.max(probs, dim=0)\n",
    "        ax.imshow(image.view(28,28).cpu().numpy(), cmap='bone')\n",
    "        ax.set_title(f'true label: {true_label} ({true_prob:.3f})\\n' \\\n",
    "                     f'pred label: {incorrect_label} ({incorrect_prob:.3f})')\n",
    "        ax.axis('off')\n",
    "    fig.subplots_adjust(hspace=0.5)"
   ]
  },
  {
   "cell_type": "code",
   "execution_count": 60,
   "metadata": {},
   "outputs": [
    {
     "data": {
      "image/png": "[encoded data removed]",
      "text/plain": [
       "<Figure size 1440x720 with 25 Axes>"
      ]
     },
     "metadata": {
      "needs_background": "light"
     },
     "output_type": "display_data"
    }
   ],
   "source": [
    "N_IMAGES = 25\n",
    "plot_most_incorrect(incorrect_examples, N_IMAGES)"
   ]
  }
 ],
 "metadata": {
  "kernelspec": {
   "display_name": "Python 3",
   "language": "python",
   "name": "python3"
  },
  "language_info": {
   "codemirror_mode": {
    "name": "ipython",
    "version": 3
   },
   "file_extension": ".py",
   "mimetype": "text/x-python",
   "name": "python",
   "nbconvert_exporter": "python",
   "pygments_lexer": "ipython3",
   "version": "3.7.6"
  }
 },
 "nbformat": 4,
 "nbformat_minor": 4
}
